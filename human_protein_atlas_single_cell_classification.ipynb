{
  "nbformat": 4,
  "nbformat_minor": 0,
  "metadata": {
    "kernelspec": {
      "name": "python3",
      "display_name": "Python 3",
      "language": "python"
    },
    "language_info": {
      "name": "python",
      "version": "3.7.9",
      "mimetype": "text/x-python",
      "codemirror_mode": {
        "name": "ipython",
        "version": 3
      },
      "pygments_lexer": "ipython3",
      "nbconvert_exporter": "python",
      "file_extension": ".py"
    },
    "colab": {
      "name": "human-protein-atlas-single-cell-classification.ipynb",
      "provenance": [],
      "include_colab_link": true
    }
  },
  "cells": [
    {
      "cell_type": "markdown",
      "metadata": {
        "id": "view-in-github",
        "colab_type": "text"
      },
      "source": [
        "<a href=\"https://colab.research.google.com/github/Nas86/Human-Protein-Atlas---Single-Cell-Classification/blob/main/human_protein_atlas_single_cell_classification.ipynb\" target=\"_parent\"><img src=\"https://colab.research.google.com/assets/colab-badge.svg\" alt=\"Open In Colab\"/></a>"
      ]
    },
    {
      "cell_type": "code",
      "metadata": {
        "_uuid": "8f2839f25d086af736a60e9eeb907d3b93b6e0e5",
        "_cell_guid": "b1076dfc-b9ad-4769-8c92-a6c4dae69d19",
        "trusted": true,
        "id": "hWwydxyTQpbz"
      },
      "source": [
        "# This Python 3 environment comes with many helpful analytics libraries installed\n",
        "# It is defined by the kaggle/python Docker image: https://github.com/kaggle/docker-python\n",
        "# For example, here's several helpful packages to load\n",
        "\n",
        "# Input data files are available in the read-only \"../input/\" directory\n",
        "# For example, running this (by clicking run or pressing Shift+Enter) will list all files under the input directory\n",
        "\n",
        "import os\n",
        "for dirname, _, filenames in os.walk('/kaggle/input'):\n",
        "    for filename in filenames:\n",
        "        print(os.path.join(dirname, filename))\n",
        "\n",
        "# You can write up to 20GB to the current directory (/kaggle/working/) that gets preserved as output when you create a version using \"Save & Run All\" \n",
        "# You can also write temporary files to /kaggle/temp/, but they won't be saved outside of the current session"
      ],
      "execution_count": null,
      "outputs": []
    },
    {
      "cell_type": "code",
      "metadata": {
        "trusted": true,
        "id": "H0VLZ3MmQpcD"
      },
      "source": [
        "import io\n",
        "import os\n",
        "import requests\n",
        "import pathlib\n",
        "import gzip\n",
        "import imageio\n",
        "import pandas as pd\n",
        "import matplotlib.pyplot as plt\n",
        "import seaborn as sns \n",
        "import operator"
      ],
      "execution_count": null,
      "outputs": []
    },
    {
      "cell_type": "markdown",
      "metadata": {
        "id": "4T8CKNyJQpcG"
      },
      "source": [
        "# **Function**"
      ]
    },
    {
      "cell_type": "code",
      "metadata": {
        "trusted": true,
        "id": "9q83m7XsQpcI"
      },
      "source": [
        "def tif_gzip_to_png(tif_path):\n",
        "    '''Function to convert .tif.gz to .png and put it in the same folder\n",
        "    Eg. for working in local work station\n",
        "    '''\n",
        "    png_path = pathlib.Path(tif_path.replace('.tif.gz','.png'))\n",
        "    tf = gzip.open(tif_path).read()\n",
        "    img = imageio.imread(tf, 'tiff')\n",
        "    imageio.imwrite(png_path, img)\n",
        "    \n",
        "def download_and_convert_tifgzip_to_png(url, target_path):    \n",
        "    '''Function to convert .tif.gz to .png and put it in the same folder\n",
        "    Eg. in Kaggle notebook\n",
        "    '''\n",
        "    r = requests.get(url)\n",
        "    f = io.BytesIO(r.content)\n",
        "    tf = gzip.open(f).read()\n",
        "    img = imageio.imread(tf, 'tiff')\n",
        "    imageio.imwrite(target_path, img)"
      ],
      "execution_count": null,
      "outputs": []
    },
    {
      "cell_type": "code",
      "metadata": {
        "trusted": true,
        "id": "p_9kW-JDQpcJ"
      },
      "source": [
        "# All label names in the public HPA and their corresponding index. \n",
        "all_locations = dict({\n",
        "    \"Nucleoplasm\": 0,\n",
        "    \"Nuclear membrane\": 1,\n",
        "    \"Nucleoli\": 2,\n",
        "    \"Nucleoli fibrillar center\": 3,\n",
        "    \"Nuclear speckles\": 4,\n",
        "    \"Nuclear bodies\": 5,\n",
        "    \"Endoplasmic reticulum\": 6,\n",
        "    \"Golgi apparatus\": 7,\n",
        "    \"Intermediate filaments\": 8,\n",
        "    \"Actin filaments\": 9,\n",
        "    \"Focal adhesion sites\": 9,\n",
        "    \"Microtubules\": 10,\n",
        "    \"Mitotic spindle\": 11,\n",
        "    \"Centrosome\": 12,\n",
        "    \"Centriolar satellite\": 12,\n",
        "    \"Plasma membrane\": 13,\n",
        "    \"Cell Junctions\": 13,\n",
        "    \"Mitochondria\": 14,\n",
        "    \"Aggresome\": 15,\n",
        "    \"Cytosol\": 16,\n",
        "    \"Vesicles\": 17,\n",
        "    \"Peroxisomes\": 17,\n",
        "    \"Endosomes\": 17,\n",
        "    \"Lysosomes\": 17,\n",
        "    \"Lipid droplets\": 17,\n",
        "    \"Cytoplasmic bodies\": 17,\n",
        "    \"No staining\": 18\n",
        "})\n",
        "\n"
      ],
      "execution_count": null,
      "outputs": []
    },
    {
      "cell_type": "code",
      "metadata": {
        "trusted": true,
        "id": "UpnEy1NyQpcM"
      },
      "source": [
        "def add_label_idx(df, all_locations):\n",
        "    '''Function to convert label name to index\n",
        "    '''\n",
        "    df[\"Label_idx\"] = None\n",
        "    for i, row in df.iterrows():\n",
        "        labels = row.Label.split(',')\n",
        "        idx = []\n",
        "        for l in labels:\n",
        "            if l in all_locations.keys():\n",
        "                idx.append(str(all_locations[l]))\n",
        "        if len(idx)>0:\n",
        "            df.loc[i,\"Label_idx\"] = \"|\".join(idx)\n",
        "            \n",
        "        print(df.loc[i,\"Label\"], df.loc[i,\"Label_idx\"])\n",
        "    return df"
      ],
      "execution_count": null,
      "outputs": []
    },
    {
      "cell_type": "code",
      "metadata": {
        "trusted": true,
        "id": "45RIaQsAQpcO",
        "outputId": "b54392af-92cf-4aca-adfc-faff38f76f7e"
      },
      "source": [
        "# public_hpa_df = pd.read_csv('../input/publichpa/kaggle_2021.tsv',names=['in_trainset'])\n",
        "import pandas as pd\n",
        "public_hpa_df = pd.read_csv('../input/publichpa-withcellline/kaggle_2021.tsv')\n",
        "\n",
        "# Remove all images overlapping with Training set\n",
        "public_hpa_df = public_hpa_df[public_hpa_df.in_trainset == False]\n",
        "\n",
        "# Remove all images with only labels that are not in this competition\n",
        "public_hpa_df = public_hpa_df[~public_hpa_df.Label_idx.isna()]\n",
        "\n",
        "colors = ['blue', 'red', 'green', 'yellow']\n",
        "celllines = ['A-431', 'A549', 'EFO-21', 'HAP1', 'HEK 293', 'HUVEC TERT2', 'HaCaT', 'HeLa', 'PC-3', 'RH-30', 'RPTEC TERT1', 'SH-SY5Y', 'SK-MEL-30', 'SiHa', 'U-2 OS', 'U-251 MG', 'hTCEpi']\n",
        "public_hpa_df_17 = public_hpa_df[public_hpa_df.Cellline.isin(celllines)]\n",
        "len(public_hpa_df), len(public_hpa_df_17)"
      ],
      "execution_count": null,
      "outputs": [
        {
          "output_type": "execute_result",
          "data": {
            "text/plain": [
              "(77668, 67462)"
            ]
          },
          "metadata": {
            "tags": []
          },
          "execution_count": 7
        }
      ]
    },
    {
      "cell_type": "code",
      "metadata": {
        "trusted": true,
        "id": "LJKxUwt-QpcR",
        "outputId": "7bd0cfdf-c2ab-4767-b062-f62e5156854a"
      },
      "source": [
        "public_hpa_df.shape"
      ],
      "execution_count": null,
      "outputs": [
        {
          "output_type": "execute_result",
          "data": {
            "text/plain": [
              "(77668, 5)"
            ]
          },
          "metadata": {
            "tags": []
          },
          "execution_count": 8
        }
      ]
    },
    {
      "cell_type": "code",
      "metadata": {
        "trusted": true,
        "id": "xBfWo09FQpcT",
        "outputId": "b47f0e83-fbb5-4071-f78f-3faa9675a0e1"
      },
      "source": [
        "public_hpa_df.tail()"
      ],
      "execution_count": null,
      "outputs": [
        {
          "output_type": "execute_result",
          "data": {
            "text/plain": [
              "                                              Image                 Label  \\\n",
              "82490  https://images.proteinatlas.org/9985/68_B8_2               Cytosol   \n",
              "82491  https://images.proteinatlas.org/9985/69_B8_1               Cytosol   \n",
              "82492  https://images.proteinatlas.org/9985/69_B8_2               Cytosol   \n",
              "82493  https://images.proteinatlas.org/9985/91_B8_1  Mitochondria,Cytosol   \n",
              "82494  https://images.proteinatlas.org/9985/91_B8_2  Mitochondria,Cytosol   \n",
              "\n",
              "       Cellline  in_trainset Label_idx  \n",
              "82490  U-251 MG        False        16  \n",
              "82491     A-431        False        16  \n",
              "82492     A-431        False        16  \n",
              "82493    U-2 OS        False     14|16  \n",
              "82494    U-2 OS        False     14|16  "
            ],
            "text/html": [
              "<div>\n",
              "<style scoped>\n",
              "    .dataframe tbody tr th:only-of-type {\n",
              "        vertical-align: middle;\n",
              "    }\n",
              "\n",
              "    .dataframe tbody tr th {\n",
              "        vertical-align: top;\n",
              "    }\n",
              "\n",
              "    .dataframe thead th {\n",
              "        text-align: right;\n",
              "    }\n",
              "</style>\n",
              "<table border=\"1\" class=\"dataframe\">\n",
              "  <thead>\n",
              "    <tr style=\"text-align: right;\">\n",
              "      <th></th>\n",
              "      <th>Image</th>\n",
              "      <th>Label</th>\n",
              "      <th>Cellline</th>\n",
              "      <th>in_trainset</th>\n",
              "      <th>Label_idx</th>\n",
              "    </tr>\n",
              "  </thead>\n",
              "  <tbody>\n",
              "    <tr>\n",
              "      <th>82490</th>\n",
              "      <td>https://images.proteinatlas.org/9985/68_B8_2</td>\n",
              "      <td>Cytosol</td>\n",
              "      <td>U-251 MG</td>\n",
              "      <td>False</td>\n",
              "      <td>16</td>\n",
              "    </tr>\n",
              "    <tr>\n",
              "      <th>82491</th>\n",
              "      <td>https://images.proteinatlas.org/9985/69_B8_1</td>\n",
              "      <td>Cytosol</td>\n",
              "      <td>A-431</td>\n",
              "      <td>False</td>\n",
              "      <td>16</td>\n",
              "    </tr>\n",
              "    <tr>\n",
              "      <th>82492</th>\n",
              "      <td>https://images.proteinatlas.org/9985/69_B8_2</td>\n",
              "      <td>Cytosol</td>\n",
              "      <td>A-431</td>\n",
              "      <td>False</td>\n",
              "      <td>16</td>\n",
              "    </tr>\n",
              "    <tr>\n",
              "      <th>82493</th>\n",
              "      <td>https://images.proteinatlas.org/9985/91_B8_1</td>\n",
              "      <td>Mitochondria,Cytosol</td>\n",
              "      <td>U-2 OS</td>\n",
              "      <td>False</td>\n",
              "      <td>14|16</td>\n",
              "    </tr>\n",
              "    <tr>\n",
              "      <th>82494</th>\n",
              "      <td>https://images.proteinatlas.org/9985/91_B8_2</td>\n",
              "      <td>Mitochondria,Cytosol</td>\n",
              "      <td>U-2 OS</td>\n",
              "      <td>False</td>\n",
              "      <td>14|16</td>\n",
              "    </tr>\n",
              "  </tbody>\n",
              "</table>\n",
              "</div>"
            ]
          },
          "metadata": {
            "tags": []
          },
          "execution_count": 9
        }
      ]
    },
    {
      "cell_type": "code",
      "metadata": {
        "trusted": true,
        "id": "bBEkiCdfQpcV",
        "outputId": "ea045311-370b-4a68-e2a7-aa3271360c08"
      },
      "source": [
        "public_hpa_df.isna().sum()"
      ],
      "execution_count": null,
      "outputs": [
        {
          "output_type": "execute_result",
          "data": {
            "text/plain": [
              "Image          0\n",
              "Label          0\n",
              "Cellline       0\n",
              "in_trainset    0\n",
              "Label_idx      0\n",
              "dtype: int64"
            ]
          },
          "metadata": {
            "tags": []
          },
          "execution_count": 10
        }
      ]
    },
    {
      "cell_type": "code",
      "metadata": {
        "trusted": true,
        "id": "fVjtlIL4QpcX",
        "outputId": "8de79c47-c973-4151-b8fc-0e894c455e92"
      },
      "source": [
        "public_hpa_df.head(20)"
      ],
      "execution_count": null,
      "outputs": [
        {
          "output_type": "execute_result",
          "data": {
            "text/plain": [
              "                                               Image                    Label  \\\n",
              "0     https://images.proteinatlas.org/10005/921_B9_1                  Cytosol   \n",
              "1     https://images.proteinatlas.org/10005/921_B9_2                  Cytosol   \n",
              "2     https://images.proteinatlas.org/10005/923_B9_1                  Cytosol   \n",
              "3     https://images.proteinatlas.org/10005/923_B9_2                  Cytosol   \n",
              "4     https://images.proteinatlas.org/10005/931_B9_1                  Cytosol   \n",
              "5     https://images.proteinatlas.org/10005/931_B9_2                  Cytosol   \n",
              "6   https://images.proteinatlas.org/10007/1876_A7_32    Endoplasmic reticulum   \n",
              "7   https://images.proteinatlas.org/10007/1876_A7_37    Endoplasmic reticulum   \n",
              "8   https://images.proteinatlas.org/10007/1901_A10_2                 Vesicles   \n",
              "9   https://images.proteinatlas.org/10007/1901_A10_3                 Vesicles   \n",
              "10   https://images.proteinatlas.org/10007/1936_E4_2    Endoplasmic reticulum   \n",
              "11   https://images.proteinatlas.org/10007/1936_E4_3    Endoplasmic reticulum   \n",
              "12    https://images.proteinatlas.org/10008/56_F11_1  Plasma membrane,Cytosol   \n",
              "13    https://images.proteinatlas.org/10008/56_F11_2  Plasma membrane,Cytosol   \n",
              "14    https://images.proteinatlas.org/10008/57_F11_1  Plasma membrane,Cytosol   \n",
              "15    https://images.proteinatlas.org/10008/57_F11_2  Plasma membrane,Cytosol   \n",
              "16    https://images.proteinatlas.org/10008/58_F11_1          Plasma membrane   \n",
              "17    https://images.proteinatlas.org/10008/58_F11_2          Plasma membrane   \n",
              "18  https://images.proteinatlas.org/10021/1891_N5_28                 Vesicles   \n",
              "19   https://images.proteinatlas.org/10021/1891_N5_5                 Vesicles   \n",
              "\n",
              "     Cellline  in_trainset Label_idx  \n",
              "0       A-431        False        16  \n",
              "1       A-431        False        16  \n",
              "2    U-251 MG        False        16  \n",
              "3    U-251 MG        False        16  \n",
              "4      U-2 OS        False        16  \n",
              "5      U-2 OS        False        16  \n",
              "6   ASC TERT1        False         6  \n",
              "7   ASC TERT1        False         6  \n",
              "8      U-2 OS        False        17  \n",
              "9      U-2 OS        False        17  \n",
              "10         BJ        False         6  \n",
              "11         BJ        False         6  \n",
              "12     U-2 OS        False     13|16  \n",
              "13     U-2 OS        False     13|16  \n",
              "14      A-431        False     13|16  \n",
              "15      A-431        False     13|16  \n",
              "16   U-251 MG        False        13  \n",
              "17   U-251 MG        False        13  \n",
              "18       SiHa        False        17  \n",
              "19       SiHa        False        17  "
            ],
            "text/html": [
              "<div>\n",
              "<style scoped>\n",
              "    .dataframe tbody tr th:only-of-type {\n",
              "        vertical-align: middle;\n",
              "    }\n",
              "\n",
              "    .dataframe tbody tr th {\n",
              "        vertical-align: top;\n",
              "    }\n",
              "\n",
              "    .dataframe thead th {\n",
              "        text-align: right;\n",
              "    }\n",
              "</style>\n",
              "<table border=\"1\" class=\"dataframe\">\n",
              "  <thead>\n",
              "    <tr style=\"text-align: right;\">\n",
              "      <th></th>\n",
              "      <th>Image</th>\n",
              "      <th>Label</th>\n",
              "      <th>Cellline</th>\n",
              "      <th>in_trainset</th>\n",
              "      <th>Label_idx</th>\n",
              "    </tr>\n",
              "  </thead>\n",
              "  <tbody>\n",
              "    <tr>\n",
              "      <th>0</th>\n",
              "      <td>https://images.proteinatlas.org/10005/921_B9_1</td>\n",
              "      <td>Cytosol</td>\n",
              "      <td>A-431</td>\n",
              "      <td>False</td>\n",
              "      <td>16</td>\n",
              "    </tr>\n",
              "    <tr>\n",
              "      <th>1</th>\n",
              "      <td>https://images.proteinatlas.org/10005/921_B9_2</td>\n",
              "      <td>Cytosol</td>\n",
              "      <td>A-431</td>\n",
              "      <td>False</td>\n",
              "      <td>16</td>\n",
              "    </tr>\n",
              "    <tr>\n",
              "      <th>2</th>\n",
              "      <td>https://images.proteinatlas.org/10005/923_B9_1</td>\n",
              "      <td>Cytosol</td>\n",
              "      <td>U-251 MG</td>\n",
              "      <td>False</td>\n",
              "      <td>16</td>\n",
              "    </tr>\n",
              "    <tr>\n",
              "      <th>3</th>\n",
              "      <td>https://images.proteinatlas.org/10005/923_B9_2</td>\n",
              "      <td>Cytosol</td>\n",
              "      <td>U-251 MG</td>\n",
              "      <td>False</td>\n",
              "      <td>16</td>\n",
              "    </tr>\n",
              "    <tr>\n",
              "      <th>4</th>\n",
              "      <td>https://images.proteinatlas.org/10005/931_B9_1</td>\n",
              "      <td>Cytosol</td>\n",
              "      <td>U-2 OS</td>\n",
              "      <td>False</td>\n",
              "      <td>16</td>\n",
              "    </tr>\n",
              "    <tr>\n",
              "      <th>5</th>\n",
              "      <td>https://images.proteinatlas.org/10005/931_B9_2</td>\n",
              "      <td>Cytosol</td>\n",
              "      <td>U-2 OS</td>\n",
              "      <td>False</td>\n",
              "      <td>16</td>\n",
              "    </tr>\n",
              "    <tr>\n",
              "      <th>6</th>\n",
              "      <td>https://images.proteinatlas.org/10007/1876_A7_32</td>\n",
              "      <td>Endoplasmic reticulum</td>\n",
              "      <td>ASC TERT1</td>\n",
              "      <td>False</td>\n",
              "      <td>6</td>\n",
              "    </tr>\n",
              "    <tr>\n",
              "      <th>7</th>\n",
              "      <td>https://images.proteinatlas.org/10007/1876_A7_37</td>\n",
              "      <td>Endoplasmic reticulum</td>\n",
              "      <td>ASC TERT1</td>\n",
              "      <td>False</td>\n",
              "      <td>6</td>\n",
              "    </tr>\n",
              "    <tr>\n",
              "      <th>8</th>\n",
              "      <td>https://images.proteinatlas.org/10007/1901_A10_2</td>\n",
              "      <td>Vesicles</td>\n",
              "      <td>U-2 OS</td>\n",
              "      <td>False</td>\n",
              "      <td>17</td>\n",
              "    </tr>\n",
              "    <tr>\n",
              "      <th>9</th>\n",
              "      <td>https://images.proteinatlas.org/10007/1901_A10_3</td>\n",
              "      <td>Vesicles</td>\n",
              "      <td>U-2 OS</td>\n",
              "      <td>False</td>\n",
              "      <td>17</td>\n",
              "    </tr>\n",
              "    <tr>\n",
              "      <th>10</th>\n",
              "      <td>https://images.proteinatlas.org/10007/1936_E4_2</td>\n",
              "      <td>Endoplasmic reticulum</td>\n",
              "      <td>BJ</td>\n",
              "      <td>False</td>\n",
              "      <td>6</td>\n",
              "    </tr>\n",
              "    <tr>\n",
              "      <th>11</th>\n",
              "      <td>https://images.proteinatlas.org/10007/1936_E4_3</td>\n",
              "      <td>Endoplasmic reticulum</td>\n",
              "      <td>BJ</td>\n",
              "      <td>False</td>\n",
              "      <td>6</td>\n",
              "    </tr>\n",
              "    <tr>\n",
              "      <th>12</th>\n",
              "      <td>https://images.proteinatlas.org/10008/56_F11_1</td>\n",
              "      <td>Plasma membrane,Cytosol</td>\n",
              "      <td>U-2 OS</td>\n",
              "      <td>False</td>\n",
              "      <td>13|16</td>\n",
              "    </tr>\n",
              "    <tr>\n",
              "      <th>13</th>\n",
              "      <td>https://images.proteinatlas.org/10008/56_F11_2</td>\n",
              "      <td>Plasma membrane,Cytosol</td>\n",
              "      <td>U-2 OS</td>\n",
              "      <td>False</td>\n",
              "      <td>13|16</td>\n",
              "    </tr>\n",
              "    <tr>\n",
              "      <th>14</th>\n",
              "      <td>https://images.proteinatlas.org/10008/57_F11_1</td>\n",
              "      <td>Plasma membrane,Cytosol</td>\n",
              "      <td>A-431</td>\n",
              "      <td>False</td>\n",
              "      <td>13|16</td>\n",
              "    </tr>\n",
              "    <tr>\n",
              "      <th>15</th>\n",
              "      <td>https://images.proteinatlas.org/10008/57_F11_2</td>\n",
              "      <td>Plasma membrane,Cytosol</td>\n",
              "      <td>A-431</td>\n",
              "      <td>False</td>\n",
              "      <td>13|16</td>\n",
              "    </tr>\n",
              "    <tr>\n",
              "      <th>16</th>\n",
              "      <td>https://images.proteinatlas.org/10008/58_F11_1</td>\n",
              "      <td>Plasma membrane</td>\n",
              "      <td>U-251 MG</td>\n",
              "      <td>False</td>\n",
              "      <td>13</td>\n",
              "    </tr>\n",
              "    <tr>\n",
              "      <th>17</th>\n",
              "      <td>https://images.proteinatlas.org/10008/58_F11_2</td>\n",
              "      <td>Plasma membrane</td>\n",
              "      <td>U-251 MG</td>\n",
              "      <td>False</td>\n",
              "      <td>13</td>\n",
              "    </tr>\n",
              "    <tr>\n",
              "      <th>18</th>\n",
              "      <td>https://images.proteinatlas.org/10021/1891_N5_28</td>\n",
              "      <td>Vesicles</td>\n",
              "      <td>SiHa</td>\n",
              "      <td>False</td>\n",
              "      <td>17</td>\n",
              "    </tr>\n",
              "    <tr>\n",
              "      <th>19</th>\n",
              "      <td>https://images.proteinatlas.org/10021/1891_N5_5</td>\n",
              "      <td>Vesicles</td>\n",
              "      <td>SiHa</td>\n",
              "      <td>False</td>\n",
              "      <td>17</td>\n",
              "    </tr>\n",
              "  </tbody>\n",
              "</table>\n",
              "</div>"
            ]
          },
          "metadata": {
            "tags": []
          },
          "execution_count": 11
        }
      ]
    },
    {
      "cell_type": "code",
      "metadata": {
        "trusted": true,
        "id": "YMaGgbEcQpcZ",
        "outputId": "68b2466e-9b75-498e-cc10-2ff78275f92b"
      },
      "source": [
        "print('Number of Unique Image:',len(public_hpa_df.Image.unique()))\n",
        "print('Number of Unique Label:',len(public_hpa_df.Label.unique()))\n",
        "print('Number of Unique Cellline:',len(public_hpa_df.Cellline.unique()))"
      ],
      "execution_count": null,
      "outputs": [
        {
          "output_type": "stream",
          "text": [
            "Number of Unique Image: 77668\n",
            "Number of Unique Label: 747\n",
            "Number of Unique Cellline: 35\n"
          ],
          "name": "stdout"
        }
      ]
    },
    {
      "cell_type": "code",
      "metadata": {
        "trusted": true,
        "id": "vos7_t5CQpcb",
        "outputId": "84093cfd-c714-4c71-a000-f2858bd5890c"
      },
      "source": [
        "label_list=all_locations.keys()\n",
        "label_list"
      ],
      "execution_count": null,
      "outputs": [
        {
          "output_type": "execute_result",
          "data": {
            "text/plain": [
              "dict_keys(['Nucleoplasm', 'Nuclear membrane', 'Nucleoli', 'Nucleoli fibrillar center', 'Nuclear speckles', 'Nuclear bodies', 'Endoplasmic reticulum', 'Golgi apparatus', 'Intermediate filaments', 'Actin filaments', 'Focal adhesion sites', 'Microtubules', 'Mitotic spindle', 'Centrosome', 'Centriolar satellite', 'Plasma membrane', 'Cell Junctions', 'Mitochondria', 'Aggresome', 'Cytosol', 'Vesicles', 'Peroxisomes', 'Endosomes', 'Lysosomes', 'Lipid droplets', 'Cytoplasmic bodies', 'No staining'])"
            ]
          },
          "metadata": {
            "tags": []
          },
          "execution_count": 13
        }
      ]
    },
    {
      "cell_type": "code",
      "metadata": {
        "trusted": true,
        "id": "hUpM691JQpcd",
        "outputId": "614ca6fd-e2b2-47c9-d088-193f57178a0b"
      },
      "source": [
        "list_elements = public_hpa_df.Label.str.split(\",\")\n",
        "print(list_elements)\n"
      ],
      "execution_count": null,
      "outputs": [
        {
          "output_type": "stream",
          "text": [
            "0                      [Cytosol]\n",
            "1                      [Cytosol]\n",
            "2                      [Cytosol]\n",
            "3                      [Cytosol]\n",
            "4                      [Cytosol]\n",
            "                  ...           \n",
            "82490                  [Cytosol]\n",
            "82491                  [Cytosol]\n",
            "82492                  [Cytosol]\n",
            "82493    [Mitochondria, Cytosol]\n",
            "82494    [Mitochondria, Cytosol]\n",
            "Name: Label, Length: 77668, dtype: object\n"
          ],
          "name": "stdout"
        }
      ]
    },
    {
      "cell_type": "code",
      "metadata": {
        "trusted": true,
        "id": "CGE9ktuBQpcf",
        "outputId": "1fb7b757-c20d-4ff2-e1bb-e679887a8995"
      },
      "source": [
        "from collections import Counter\n",
        "list_label = []\n",
        "for elements in list_elements:\n",
        "    for element in elements:\n",
        "        list_label.append(element)\n",
        "\n",
        "\n",
        "print(Counter(list_label))\n",
        "print(sum(Counter(list_label).values()))\n"
      ],
      "execution_count": null,
      "outputs": [
        {
          "output_type": "stream",
          "text": [
            "Counter({'Nucleoplasm': 34731, 'Cytosol': 23663, 'Vesicles': 9461, 'Plasma membrane': 7998, 'Mitochondria': 5900, 'No staining': 5456, 'Golgi apparatus': 4710, 'Nucleoli': 4450, 'Nuclear speckles': 2521, 'Nuclear bodies': 2370, 'Endoplasmic reticulum': 2004, 'Centrosome': 1432, 'Nucleoli fibrillar center': 1423, 'Nuclear membrane': 1157, 'Microtubules': 1131, 'Cell Junctions': 1033, 'Actin filaments': 943, 'Intermediate filaments': 582, 'Centriolar satellite': 570, 'Focal adhesion sites': 524, 'Nucleoli rim': 462, 'Cytokinetic bridge': 360, 'Cytoplasmic bodies': 297, 'Mitotic spindle': 193, 'Lipid droplets': 145, 'Aggresome': 140, 'Mitotic chromosome': 135, 'Peroxisomes': 104, 'Midbody': 91, 'Lysosomes': 84, 'Endosomes': 63, 'Midbody ring': 58, 'Rods & Rings': 25, 'Microtubule ends': 17, 'Kinetochore': 8, 'Cleavage furrow': 3})\n",
            "114244\n"
          ],
          "name": "stdout"
        }
      ]
    },
    {
      "cell_type": "code",
      "metadata": {
        "trusted": true,
        "id": "5wfF5xhXQpcg",
        "outputId": "de2e26b8-9d5a-456c-94e8-e4f0fba59249"
      },
      "source": [
        "import operator\n",
        "sorted_lable_list = sorted(Counter(list_label).items(), key=operator.itemgetter(1), reverse=True)\n",
        "df = pd.DataFrame(sorted_lable_list, columns = ['label','count'])\n",
        "df.head()"
      ],
      "execution_count": null,
      "outputs": [
        {
          "output_type": "execute_result",
          "data": {
            "text/plain": [
              "             label  count\n",
              "0      Nucleoplasm  34731\n",
              "1          Cytosol  23663\n",
              "2         Vesicles   9461\n",
              "3  Plasma membrane   7998\n",
              "4     Mitochondria   5900"
            ],
            "text/html": [
              "<div>\n",
              "<style scoped>\n",
              "    .dataframe tbody tr th:only-of-type {\n",
              "        vertical-align: middle;\n",
              "    }\n",
              "\n",
              "    .dataframe tbody tr th {\n",
              "        vertical-align: top;\n",
              "    }\n",
              "\n",
              "    .dataframe thead th {\n",
              "        text-align: right;\n",
              "    }\n",
              "</style>\n",
              "<table border=\"1\" class=\"dataframe\">\n",
              "  <thead>\n",
              "    <tr style=\"text-align: right;\">\n",
              "      <th></th>\n",
              "      <th>label</th>\n",
              "      <th>count</th>\n",
              "    </tr>\n",
              "  </thead>\n",
              "  <tbody>\n",
              "    <tr>\n",
              "      <th>0</th>\n",
              "      <td>Nucleoplasm</td>\n",
              "      <td>34731</td>\n",
              "    </tr>\n",
              "    <tr>\n",
              "      <th>1</th>\n",
              "      <td>Cytosol</td>\n",
              "      <td>23663</td>\n",
              "    </tr>\n",
              "    <tr>\n",
              "      <th>2</th>\n",
              "      <td>Vesicles</td>\n",
              "      <td>9461</td>\n",
              "    </tr>\n",
              "    <tr>\n",
              "      <th>3</th>\n",
              "      <td>Plasma membrane</td>\n",
              "      <td>7998</td>\n",
              "    </tr>\n",
              "    <tr>\n",
              "      <th>4</th>\n",
              "      <td>Mitochondria</td>\n",
              "      <td>5900</td>\n",
              "    </tr>\n",
              "  </tbody>\n",
              "</table>\n",
              "</div>"
            ]
          },
          "metadata": {
            "tags": []
          },
          "execution_count": 16
        }
      ]
    },
    {
      "cell_type": "code",
      "metadata": {
        "trusted": true,
        "id": "21whpKq3Qpci",
        "outputId": "3c251d27-71c7-4feb-c55d-fbdd765bf51c"
      },
      "source": [
        "plt.figure(figsize=(10,10))\n",
        "ax = sns.countplot(y=\"Cellline\", data=public_hpa_df)\n",
        "plt.title('Number of Celline For Each Label Within The Dataset')\n",
        "ax.set(xlabel='Number of Celline in Dataset', ylabel='Celline Names')\n",
        "plt.show()"
      ],
      "execution_count": null,
      "outputs": [
        {
          "output_type": "display_data",
          "data": {
            "text/plain": [
              "<Figure size 720x720 with 1 Axes>"
            ],
            "image/png": "[encoded data removed]"
          },
          "metadata": {
            "tags": [],
            "needs_background": "light"
          }
        }
      ]
    },
    {
      "cell_type": "code",
      "metadata": {
        "trusted": true,
        "id": "ZMea4o0GQpck",
        "outputId": "f4001880-675e-4727-dd7b-77e3eeccdfa0"
      },
      "source": [
        "plt.figure(figsize=(20,15))\n",
        "ax = sns.barplot(x=\"count\", y=\"label\", data=df)\n",
        "plt.title('Number of Occurences For Each Label Within The Dataset')\n",
        "ax.set(xlabel='Number of Occurences', ylabel='Label Names')\n",
        "plt.show()"
      ],
      "execution_count": null,
      "outputs": [
        {
          "output_type": "display_data",
          "data": {
            "text/plain": [
              "<Figure size 1440x1080 with 1 Axes>"
            ],
            "image/png": "[encoded data removed]"
          },
          "metadata": {
            "tags": [],
            "needs_background": "light"
          }
        }
      ]
    },
    {
      "cell_type": "code",
      "metadata": {
        "trusted": true,
        "id": "ozbKazXLQpcl"
      },
      "source": [
        ""
      ],
      "execution_count": null,
      "outputs": []
    },
    {
      "cell_type": "code",
      "metadata": {
        "trusted": true,
        "id": "hfWqgNOgQpcm",
        "outputId": "90e6465a-8041-47dc-db12-d5c85575183d"
      },
      "source": [
        "save_dir = os.path.join(os.getcwd(),'publichpa')\n",
        "if not os.path.exists(save_dir):\n",
        "    os.makedirs(save_dir)\n",
        "    \n",
        "for i, row in public_hpa_df[0:5].iterrows():\n",
        "    try:\n",
        "        img = row.Image\n",
        "        for color in colors:\n",
        "            img_url = f'{img}_{color}.tif.gz'\n",
        "            save_path = os.path.join(save_dir,  f'{os.path.basename(img)}_{color}.png')\n",
        "            download_and_convert_tifgzip_to_png(img_url, save_path)\n",
        "            print(f'Downloaded {img_url} as {save_path}')    \n",
        "    except:\n",
        "        print(f'failed to download: {img}')"
      ],
      "execution_count": null,
      "outputs": [
        {
          "output_type": "stream",
          "text": [
            "Downloaded https://images.proteinatlas.org/10005/921_B9_1_blue.tif.gz as /kaggle/working/publichpa/921_B9_1_blue.png\n",
            "Downloaded https://images.proteinatlas.org/10005/921_B9_1_red.tif.gz as /kaggle/working/publichpa/921_B9_1_red.png\n",
            "Downloaded https://images.proteinatlas.org/10005/921_B9_1_green.tif.gz as /kaggle/working/publichpa/921_B9_1_green.png\n",
            "Downloaded https://images.proteinatlas.org/10005/921_B9_1_yellow.tif.gz as /kaggle/working/publichpa/921_B9_1_yellow.png\n",
            "Downloaded https://images.proteinatlas.org/10005/921_B9_2_blue.tif.gz as /kaggle/working/publichpa/921_B9_2_blue.png\n",
            "Downloaded https://images.proteinatlas.org/10005/921_B9_2_red.tif.gz as /kaggle/working/publichpa/921_B9_2_red.png\n",
            "Downloaded https://images.proteinatlas.org/10005/921_B9_2_green.tif.gz as /kaggle/working/publichpa/921_B9_2_green.png\n",
            "Downloaded https://images.proteinatlas.org/10005/921_B9_2_yellow.tif.gz as /kaggle/working/publichpa/921_B9_2_yellow.png\n",
            "Downloaded https://images.proteinatlas.org/10005/923_B9_1_blue.tif.gz as /kaggle/working/publichpa/923_B9_1_blue.png\n",
            "Downloaded https://images.proteinatlas.org/10005/923_B9_1_red.tif.gz as /kaggle/working/publichpa/923_B9_1_red.png\n",
            "Downloaded https://images.proteinatlas.org/10005/923_B9_1_green.tif.gz as /kaggle/working/publichpa/923_B9_1_green.png\n",
            "Downloaded https://images.proteinatlas.org/10005/923_B9_1_yellow.tif.gz as /kaggle/working/publichpa/923_B9_1_yellow.png\n",
            "Downloaded https://images.proteinatlas.org/10005/923_B9_2_blue.tif.gz as /kaggle/working/publichpa/923_B9_2_blue.png\n",
            "Downloaded https://images.proteinatlas.org/10005/923_B9_2_red.tif.gz as /kaggle/working/publichpa/923_B9_2_red.png\n",
            "Downloaded https://images.proteinatlas.org/10005/923_B9_2_green.tif.gz as /kaggle/working/publichpa/923_B9_2_green.png\n",
            "Downloaded https://images.proteinatlas.org/10005/923_B9_2_yellow.tif.gz as /kaggle/working/publichpa/923_B9_2_yellow.png\n",
            "Downloaded https://images.proteinatlas.org/10005/931_B9_1_blue.tif.gz as /kaggle/working/publichpa/931_B9_1_blue.png\n",
            "Downloaded https://images.proteinatlas.org/10005/931_B9_1_red.tif.gz as /kaggle/working/publichpa/931_B9_1_red.png\n",
            "Downloaded https://images.proteinatlas.org/10005/931_B9_1_green.tif.gz as /kaggle/working/publichpa/931_B9_1_green.png\n",
            "Downloaded https://images.proteinatlas.org/10005/931_B9_1_yellow.tif.gz as /kaggle/working/publichpa/931_B9_1_yellow.png\n"
          ],
          "name": "stdout"
        }
      ]
    },
    {
      "cell_type": "code",
      "metadata": {
        "trusted": true,
        "id": "XhRw6JrWQpco",
        "outputId": "b3872a72-63c2-4568-d55a-589dade1a1fa"
      },
      "source": [
        "!pip install https://github.com/CellProfiling/HPA-Cell-Segmentation/archive/master.zip"
      ],
      "execution_count": null,
      "outputs": [
        {
          "output_type": "stream",
          "text": [
            "Collecting https://github.com/CellProfiling/HPA-Cell-Segmentation/archive/master.zip\n",
            "  Downloading https://github.com/CellProfiling/HPA-Cell-Segmentation/archive/master.zip\n",
            "\u001b[K     / 17 kB 290 kB/ss\n",
            "\u001b[?25hCollecting pytorch_zoo@ https://github.com/haoxusci/pytorch_zoo/archive/master.zip\n",
            "  Downloading https://github.com/haoxusci/pytorch_zoo/archive/master.zip\n",
            "\u001b[K     / 131 kB 728 kB/s\n",
            "\u001b[?25hRequirement already satisfied: scikit-image>=0.16.2 in /opt/conda/lib/python3.7/site-packages (from hpacellseg==0.1.8) (0.18.1)\n",
            "Requirement already satisfied: imageio>=2.6.1 in /opt/conda/lib/python3.7/site-packages (from hpacellseg==0.1.8) (2.9.0)\n",
            "Requirement already satisfied: scipy>=1.4.1 in /opt/conda/lib/python3.7/site-packages (from hpacellseg==0.1.8) (1.5.4)\n",
            "Requirement already satisfied: opencv-python>=4.2.0.32 in /opt/conda/lib/python3.7/site-packages (from hpacellseg==0.1.8) (4.5.1.48)\n",
            "Requirement already satisfied: pillow>=6.2.1 in /opt/conda/lib/python3.7/site-packages (from hpacellseg==0.1.8) (7.2.0)\n",
            "Requirement already satisfied: torch>=1.4.0 in /opt/conda/lib/python3.7/site-packages (from hpacellseg==0.1.8) (1.7.0)\n",
            "Requirement already satisfied: torchvision>=0.5.0 in /opt/conda/lib/python3.7/site-packages (from hpacellseg==0.1.8) (0.8.1)\n",
            "Requirement already satisfied: click>=7.0 in /opt/conda/lib/python3.7/site-packages (from hpacellseg==0.1.8) (7.1.2)\n",
            "Requirement already satisfied: numpy in /opt/conda/lib/python3.7/site-packages (from imageio>=2.6.1->hpacellseg==0.1.8) (1.19.5)\n",
            "Requirement already satisfied: tifffile>=2019.7.26 in /opt/conda/lib/python3.7/site-packages (from scikit-image>=0.16.2->hpacellseg==0.1.8) (2021.2.1)\n",
            "Requirement already satisfied: matplotlib!=3.0.0,>=2.0.0 in /opt/conda/lib/python3.7/site-packages (from scikit-image>=0.16.2->hpacellseg==0.1.8) (3.3.3)\n",
            "Requirement already satisfied: PyWavelets>=1.1.1 in /opt/conda/lib/python3.7/site-packages (from scikit-image>=0.16.2->hpacellseg==0.1.8) (1.1.1)\n",
            "Requirement already satisfied: networkx>=2.0 in /opt/conda/lib/python3.7/site-packages (from scikit-image>=0.16.2->hpacellseg==0.1.8) (2.5)\n",
            "Requirement already satisfied: kiwisolver>=1.0.1 in /opt/conda/lib/python3.7/site-packages (from matplotlib!=3.0.0,>=2.0.0->scikit-image>=0.16.2->hpacellseg==0.1.8) (1.3.1)\n",
            "Requirement already satisfied: python-dateutil>=2.1 in /opt/conda/lib/python3.7/site-packages (from matplotlib!=3.0.0,>=2.0.0->scikit-image>=0.16.2->hpacellseg==0.1.8) (2.8.1)\n",
            "Requirement already satisfied: cycler>=0.10 in /opt/conda/lib/python3.7/site-packages (from matplotlib!=3.0.0,>=2.0.0->scikit-image>=0.16.2->hpacellseg==0.1.8) (0.10.0)\n",
            "Requirement already satisfied: pyparsing!=2.0.4,!=2.1.2,!=2.1.6,>=2.0.3 in /opt/conda/lib/python3.7/site-packages (from matplotlib!=3.0.0,>=2.0.0->scikit-image>=0.16.2->hpacellseg==0.1.8) (2.4.7)\n",
            "Requirement already satisfied: six in /opt/conda/lib/python3.7/site-packages (from cycler>=0.10->matplotlib!=3.0.0,>=2.0.0->scikit-image>=0.16.2->hpacellseg==0.1.8) (1.15.0)\n",
            "Requirement already satisfied: decorator>=4.3.0 in /opt/conda/lib/python3.7/site-packages (from networkx>=2.0->scikit-image>=0.16.2->hpacellseg==0.1.8) (4.4.2)\n",
            "Requirement already satisfied: future in /opt/conda/lib/python3.7/site-packages (from torch>=1.4.0->hpacellseg==0.1.8) (0.18.2)\n",
            "Requirement already satisfied: typing_extensions in /opt/conda/lib/python3.7/site-packages (from torch>=1.4.0->hpacellseg==0.1.8) (3.7.4.3)\n",
            "Requirement already satisfied: dataclasses in /opt/conda/lib/python3.7/site-packages (from torch>=1.4.0->hpacellseg==0.1.8) (0.6)\n",
            "Building wheels for collected packages: hpacellseg, pytorch-zoo\n",
            "  Building wheel for hpacellseg (setup.py) ... \u001b[?25ldone\n",
            "\u001b[?25h  Created wheel for hpacellseg: filename=hpacellseg-0.1.8-py3-none-any.whl size=14987 sha256=6d422c01572fc76555c811f3efd9f5d13a03be1b71453c13efce1704a752d638\n",
            "  Stored in directory: /tmp/pip-ephem-wheel-cache-23jun1rk/wheels/cd/d8/de/04ad08802d62537f8dffc89b6a7ce0a53c3d29ea6eae522ab1\n",
            "  Building wheel for pytorch-zoo (setup.py) ... \u001b[?25ldone\n",
            "\u001b[?25h  Created wheel for pytorch-zoo: filename=pytorch_zoo-0.0.0-py3-none-any.whl size=30139 sha256=a7a7747f0a1c88353a23ca02da27ffe4f24c19466ea8f54698076ff5ce9b42ea\n",
            "  Stored in directory: /tmp/pip-ephem-wheel-cache-23jun1rk/wheels/58/0e/c7/567928a140c7cb2533c59bdc81fded8fe720ea8caad1659d8c\n",
            "Successfully built hpacellseg pytorch-zoo\n",
            "Installing collected packages: pytorch-zoo, hpacellseg\n",
            "Successfully installed hpacellseg-0.1.8 pytorch-zoo-0.0.0\n"
          ],
          "name": "stdout"
        }
      ]
    },
    {
      "cell_type": "code",
      "metadata": {
        "trusted": true,
        "id": "Gj0aLc-YQpcr"
      },
      "source": [
        "import hpacellseg.cellsegmentator as cellsegmentator\n",
        "from hpacellseg.utils import label_cell, label_nuclei\n",
        "import glob\n",
        "\n",
        "mt = glob.glob(save_dir + '/' + '*_red.png')\n",
        "er = [f.replace('red', 'yellow') for f in mt]\n",
        "nu = [f.replace('red', 'blue') for f in mt]\n",
        "images = [mt, er, nu]\n",
        "\n",
        "\n",
        "NUC_MODEL = \"./nuclei-model.pth\"\n",
        "CELL_MODEL = \"./cell-model.pth\"\n",
        "segmentator = cellsegmentator.CellSegmentator(\n",
        "    NUC_MODEL,\n",
        "    CELL_MODEL,\n",
        "    scale_factor=0.25,\n",
        "    device=\"cuda\",\n",
        "    padding=False,\n",
        "    multi_channel_model=True,\n",
        ")\n",
        "\n",
        "# For nuclei\n",
        "nuc_segmentations = segmentator.pred_nuclei(images[2])\n",
        "\n",
        "# For full cells\n",
        "cell_segmentations = segmentator.pred_cells(images)\n",
        "\n",
        "# post-processing\n",
        "for i, pred in enumerate(cell_segmentations):\n",
        "    nuclei_mask, cell_mask = label_cell(nuc_segmentations[i], cell_segmentations[i])\n",
        "    FOVname = os.path.basename(mt[i]).replace('red','predictedmask')\n",
        "    imageio.imwrite(os.path.join(save_dir,FOVname), cell_mask) "
      ],
      "execution_count": null,
      "outputs": []
    },
    {
      "cell_type": "code",
      "metadata": {
        "trusted": true,
        "id": "Z5j39xCrQpct"
      },
      "source": [
        "# Visualizing the segmentation masks we just predicted above\n",
        "\n",
        "import numpy as np\n",
        "import matplotlib.pyplot as plt\n",
        "\n",
        "fig, ax = plt.subplots(1,3, figsize=(20,50))\n",
        "for i in range(3):\n",
        "    microtubule = plt.imread(mt[i])    \n",
        "    endoplasmicrec = plt.imread(er[i])    \n",
        "    nuclei = plt.imread(nu[i])\n",
        "    mask = plt.imread(mt[i].replace('red','predictedmask'))\n",
        "    img = np.dstack((microtubule, endoplasmicrec, nuclei))\n",
        "    ax[i].imshow(img)\n",
        "    ax[i].imshow(mask, alpha=0.5)\n",
        "    ax[i].axis('off')\n",
        "plt.show()"
      ],
      "execution_count": null,
      "outputs": []
    },
    {
      "cell_type": "code",
      "metadata": {
        "trusted": true,
        "id": "-P699-D8Qpcu"
      },
      "source": [
        ""
      ],
      "execution_count": null,
      "outputs": []
    }
  ]
}